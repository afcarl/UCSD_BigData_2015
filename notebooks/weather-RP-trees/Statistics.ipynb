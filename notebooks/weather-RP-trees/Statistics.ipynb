{
 "cells": [
  {
   "cell_type": "code",
   "execution_count": 1,
   "metadata": {
    "collapsed": false
   },
   "outputs": [
    {
     "name": "stdout",
     "output_type": "stream",
     "text": [
      "JulaitiFilter.ipynb            Statistics2.py                 Untitled.ipynb                 Weather Analysis basemap.ipynb Weather Analysis full.ipynb\r\n"
     ]
    }
   ],
   "source": [
    "!ls"
   ]
  },
  {
   "cell_type": "code",
   "execution_count": 3,
   "metadata": {
    "collapsed": true
   },
   "outputs": [],
   "source": [
    "import numpy as np\n",
    "import pandas as pd"
   ]
  },
  {
   "cell_type": "code",
   "execution_count": 50,
   "metadata": {
    "collapsed": false
   },
   "outputs": [
    {
     "name": "stdout",
     "output_type": "stream",
     "text": [
      "Overwriting Statistics2.py\n"
     ]
    }
   ],
   "source": [
    "%%writefile Statistics2.py\n",
    "\"\"\"\n",
    "A module for computing simple statistics - mean, variance, covariance\n",
    "s1: First order Statistics for a matrix random variable (a numpy array)\n",
    "s2: Second order Statistics for a vector random variable.\n",
    "\"\"\"\n",
    "from numpy import *\n",
    "import numpy as np\n",
    "from random import random\n",
    "import sys,copy,traceback\n",
    "\n",
    "class s:\n",
    "    \"\"\" compute the mean of matrices (have to be of same size) \"\"\"\n",
    "    def __init__(self,mat):\n",
    "        self.reset(mat)\n",
    "        \n",
    "    def reset(self,mat):\n",
    "        self.n=zeros(shape(mat))\n",
    "        self.sum=zeros(shape(mat))\n",
    "        \n",
    "    def accum(self,value):\n",
    "        \"\"\" Add a value to the statistics \"\"\"\n",
    "\n",
    "        if type(value)!= ndarray:\n",
    "            raise Exception('in s.accum: type of value='+str(type(U))+', it should be numpy.ndarray')\n",
    " \n",
    "        if shape(value) != shape(self.sum):\n",
    "            raise Exception('in s.accum: shape of value:'+str(shape(value))+\\\n",
    "                            ' is not equal to shape of sum:'+str(shape(self.sum)))\n",
    "        self.sum+=nan_to_num(value)\n",
    "        self.n+=(1-isnan(value))\n",
    "\n",
    "    def compute(self):\n",
    "        \"\"\" Returns the counts and the means for each entry \"\"\"\n",
    "        self.mean = self.sum / self.n\n",
    "        self.mean = nan_to_num(self.mean)\n",
    "        self.count=nan_to_num(self.n)\n",
    "        return (self.count,self.mean)\n",
    "\n",
    "    def add(self,other):\n",
    "        \"\"\" add two statistics \"\"\"\n",
    "        self.n += other.n\n",
    "        self.sum += other.sum\n",
    "        \n",
    "    def to_lists(self):\n",
    "        return {'n':self.n.tolist(),\\\n",
    "                'sum':self.sum.tolist()}\n",
    "\n",
    "    def from_lists(self,D):\n",
    "        self.n=array(D['n'])\n",
    "        self.sum=array(D['sum'])\n",
    "\n",
    "class VecStat:\n",
    "    \"\"\" Compute first and second order statistics of vectors of a fixed size n \"\"\"\n",
    "    def __init__(self,n):\n",
    "        self.n=n\n",
    "        self.reset()\n",
    "        # Create a vector of length n and a matrix of size nXn\n",
    " \n",
    "    def reset(self):\n",
    "        n=self.n\n",
    "        self.V=s(zeros(n))\n",
    "        self.Cov=s(zeros([n,n]))\n",
    "        \n",
    "    def accum(self,U):\n",
    "        \"\"\" accumulate statistics:\n",
    "        U: an numpy array holding one vector\n",
    "        \"\"\"\n",
    "        #check the length of U\n",
    "        if len(U) != self.n :\n",
    "            error='in Statistics.secOrdStat.accum: length of V='+str(self.n)+' not equal to length of U='+str(U.n)+'/n'\n",
    "            sys.stderr.write(error)\n",
    "            raise StandardError, error\n",
    "        #check if U has the correct type\n",
    "        if type(U) != ndarray:\n",
    "            error='in Statistics.secOrdStat.accum: type of U='+str(type(U))+', it should be numpy.ndarray'\n",
    "            sys.stderr.write(error)\n",
    "            raise StandardError, error\n",
    "        else:\n",
    "            #do the work\n",
    "            self.V.accum(U)\n",
    "            self.Cov.accum(outer(U,U))\n",
    "            \n",
    "    def compute(self,k=5):\n",
    "        \"\"\"\n",
    "        Compute the statistics. k (default 5) is the number of eigenvalues that are kept\n",
    "        \"\"\"\n",
    "\n",
    "        # Compute mean vector\n",
    "        (countV,meanV)=self.V.compute()\n",
    "\n",
    "        # Compute covariance matrix\n",
    "        (countC,meanC)=self.Cov.compute()\n",
    "        cov=meanC-outer(meanV,meanV)\n",
    "        std=[cov[i,i] for i in range(shape(self.Cov.sum)[0])]\n",
    "        try:\n",
    "            (eigvalues,eigvectors)=linalg.eig(cov)\n",
    "            order=argsort(-abs(eigvalues))\t# indexes of eigenvalues from largest to smallest\n",
    "            eigvalues=eigvalues[order]\t\t# order eigenvalues\n",
    "            eigvectors=eigvectors[order]\t# order eigenvectors\n",
    "            eigvectors=eigvectors[1:k]\t\t# keep only top k eigen-vectors\n",
    "            for v in eigvectors:\n",
    "                v=v[order]     # order the elements in each eigenvector\n",
    "\n",
    "        except Exception,e:\n",
    "            exc_type, exc_value, exc_traceback = sys.exc_info()\n",
    "            traceback.print_exception(exc_type, exc_value, exc_traceback,limit=2, file=sys.stderr)\n",
    "            \n",
    "            eigvalues=None\n",
    "            eigvectors=None\n",
    "        return {'count':self.V.n,'mean':meanV,'std':std,'eigvalues':eigvalues,'eigvectors':eigvectors}\n",
    "        \n",
    "    def add(self, other):\n",
    "        \"\"\" add the statistics of s into self \"\"\"\n",
    "        self.V.add(other.V)\n",
    "        self.Cov.add(other.Cov)\n",
    "        \n",
    "    def to_lists(self):\n",
    "        return {'V':self.V.to_lists(),\n",
    "                'Cov':self.Cov.to_lists()}\n",
    "\n",
    "    def from_lists(self,D):\n",
    "        self.V.from_lists(D['V'])\n",
    "        self.Cov.from_lists(D['Cov'])\n",
    "        self.n=len(self.V.sum)\n",
    "\n",
    "\n",
    "if __name__ == \"__main__\":\n",
    "    ## Test code ##\n",
    "    vec1=array([0,nan,1,0,nan])\n",
    "    vec2=array([1,2,1,1,nan])\n",
    "    print 'vec1=\\n',vec1,'\\n vec2=\\n',vec2\n",
    "\n",
    "    S1=s(vec1)\n",
    "    S1.accum(vec1)\n",
    "    S1.accum(vec2)\n",
    "    count,mean=S1.compute()\n",
    "    print 'First order statistics'\n",
    "    print 'count=\\n',count,'\\nmean=\\n',mean\n",
    "\n",
    "    S2=VecStat(len(vec1))\n",
    "    S2.accum(vec1)\n",
    "    S2.accum(vec2)\n",
    "    EigenDecomp=S2.compute()\n",
    "    print 'second order statistics'\n",
    "    print EigenDecomp\n",
    "    "
   ]
  },
  {
   "cell_type": "code",
   "execution_count": 51,
   "metadata": {
    "collapsed": false
   },
   "outputs": [
    {
     "name": "stdout",
     "output_type": "stream",
     "text": [
      "vec1=\n",
      "[  0.  nan   1.   0.  nan] \n",
      " vec2=\n",
      "[  1.   2.   1.   1.  nan]\n",
      "First order statistics\n",
      "count=\n",
      "[ 2.  1.  2.  2.  0.] \n",
      "mean=\n",
      "[ 0.5  2.   1.   0.5  0. ]\n",
      "second order statistics\n",
      "{'count': array([ 2.,  1.,  2.,  2.,  0.]), 'std': [0.25, 0.0, 0.0, 0.25, 0.0], 'eigvectors': array([[  0.00000000e+00,   0.00000000e+00,   0.00000000e+00,\n",
      "          1.00000000e+00,   0.00000000e+00],\n",
      "       [ -6.42620551e-01,  -1.89030395e-17,  -7.66184591e-01,\n",
      "          0.00000000e+00,   0.00000000e+00],\n",
      "       [ -5.41774320e-01,   7.07106781e-01,   4.54401349e-01,\n",
      "          0.00000000e+00,   0.00000000e+00],\n",
      "       [  0.00000000e+00,   0.00000000e+00,   0.00000000e+00,\n",
      "          0.00000000e+00,   1.00000000e+00]]), 'eigvalues': array([  1.68614066e+00,  -1.18614066e+00,   2.76674842e-17,\n",
      "         0.00000000e+00,   0.00000000e+00]), 'mean': array([ 0.5,  2. ,  1. ,  0.5,  0. ])}\n"
     ]
    }
   ],
   "source": [
    "vec1=array([0,nan,1,0,nan])\n",
    "vec2=array([1,2,1,1,nan])\n",
    "print 'vec1=\\n',vec1,'\\n vec2=\\n',vec2\n",
    "S1=s(vec1)\n",
    "S1.accum(vec1)\n",
    "S1.accum(vec2)\n",
    "count,mean=S1.compute()\n",
    "print 'First order statistics'\n",
    "print 'count=\\n',count,'\\nmean=\\n',mean\n",
    "S2=VecStat(len(vec1))\n",
    "S2.accum(vec1)\n",
    "S2.accum(vec2)\n",
    "EigenDecomp=S2.compute()\n",
    "print 'second order statistics'\n",
    "print EigenDecomp"
   ]
  },
  {
   "cell_type": "code",
   "execution_count": 47,
   "metadata": {
    "collapsed": false
   },
   "outputs": [
    {
     "data": {
      "text/plain": [
       "numpy.ndarray"
      ]
     },
     "execution_count": 47,
     "metadata": {},
     "output_type": "execute_result"
    }
   ],
   "source": [
    "type(array([1,nan,3]))"
   ]
  },
  {
   "cell_type": "code",
   "execution_count": null,
   "metadata": {
    "collapsed": true
   },
   "outputs": [],
   "source": []
  }
 ],
 "metadata": {
  "kernelspec": {
   "display_name": "Python 2",
   "language": "python",
   "name": "python2"
  },
  "language_info": {
   "codemirror_mode": {
    "name": "ipython",
    "version": 2
   },
   "file_extension": ".py",
   "mimetype": "text/x-python",
   "name": "python",
   "nbconvert_exporter": "python",
   "pygments_lexer": "ipython2",
   "version": "2.7.9"
  }
 },
 "nbformat": 4,
 "nbformat_minor": 0
}
